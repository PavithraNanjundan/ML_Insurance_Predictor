{
 "cells": [
  {
   "cell_type": "code",
   "execution_count": 19,
   "metadata": {},
   "outputs": [
    {
     "name": "stdout",
     "output_type": "stream",
     "text": [
      "Response from API: {'error': \"type numpy.ndarray doesn't define __round__ method\"}\n"
     ]
    }
   ],
   "source": [
    "import requests\n",
    "\n",
    "# Define the API endpoint\n",
    "url = \"http://127.0.0.1:8080/predict\"\n",
    "\n",
    "# Sample input data (adjust based on your model features)\n",
    "data = {\n",
    "    \"age\": 30,\n",
    "    \"bmi\": 23,\n",
    "    \"children\": 3,\n",
    "    \"smoker_yes\": 0\n",
    "}\n",
    "\n",
    "# Send a POST request with JSON data\n",
    "response = requests.post(url, json=data)\n",
    "\n",
    "# Print the API response\n",
    "if response.status_code == 200:\n",
    "    print(\"Response from API:\", response.json())  # Expected output: {'predicted_charges': 12345.67}\n",
    "else:\n",
    "    print(\"Error:\", response.status_code, response.text)\n",
    "\n"
   ]
  },
  {
   "cell_type": "code",
   "execution_count": 16,
   "metadata": {},
   "outputs": [
    {
     "name": "stdout",
     "output_type": "stream",
     "text": [
      "{\"predicted_charges\":[[7279.481099820479]]}\n"
     ]
    },
    {
     "name": "stderr",
     "output_type": "stream",
     "text": [
      "  % Total    % Received % Xferd  Average Speed   Time    Time     Time  Current\n",
      "                                 Dload  Upload   Total   Spent    Left  Speed\n",
      "\n",
      "  0     0    0     0    0     0      0      0 --:--:-- --:--:-- --:--:--     0\n",
      "100   100  100    44  100    56   3005   3824 --:--:-- --:--:-- --:--:--  7142\n"
     ]
    }
   ],
   "source": [
    "! curl -X POST \"http://127.0.0.1:8080/predict\" \\\n",
    "     -H \"Content-Type: application/json\" \\\n",
    "     -d \"{\\\"age\\\": 40, \\\"bmi\\\": 25.3, \\\"children\\\": 2, \\\"smoker_yes\\\": 0}\""
   ]
  },
  {
   "cell_type": "code",
   "execution_count": null,
   "metadata": {},
   "outputs": [],
   "source": []
  }
 ],
 "metadata": {
  "kernelspec": {
   "display_name": "base",
   "language": "python",
   "name": "python3"
  },
  "language_info": {
   "codemirror_mode": {
    "name": "ipython",
    "version": 3
   },
   "file_extension": ".py",
   "mimetype": "text/x-python",
   "name": "python",
   "nbconvert_exporter": "python",
   "pygments_lexer": "ipython3",
   "version": "3.12.4"
  }
 },
 "nbformat": 4,
 "nbformat_minor": 2
}
